{
 "cells": [
  {
   "cell_type": "code",
   "execution_count": 1,
   "metadata": {},
   "outputs": [],
   "source": [
    "import nltk"
   ]
  },
  {
   "cell_type": "code",
   "execution_count": 2,
   "metadata": {},
   "outputs": [],
   "source": [
    "# Set random seed\n",
    "seed = 123\n",
    "# Data manipulation/analysis\n",
    "import numpy as np\n",
    "import pandas as pd\n",
    "# Text preprocessing/analysis\n",
    "import re\n",
    "from nltk.corpus import stopwords\n",
    "from nltk.stem import WordNetLemmatizer\n",
    "from nltk.tokenize import RegexpTokenizer\n",
    "from nltk.sentiment.vader import SentimentIntensityAnalyzer\n",
    "from textblob import TextBlob\n",
    "from scipy.sparse import hstack, csr_matrix\n",
    "from sklearn.feature_extraction.text import TfidfVectorizer\n",
    "from sklearn.preprocessing import MinMaxScaler\n",
    "# Modelling\n",
    "from sklearn.model_selection import train_test_split, cross_validate, GridSearchCV, RandomizedSearchCV\n",
    "from sklearn.linear_model import LogisticRegression, SGDClassifier\n",
    "from sklearn.naive_bayes import MultinomialNB\n",
    "from sklearn.metrics import classification_report, confusion_matrix\n",
    "from sklearn.pipeline import Pipeline\n",
    "# Visualisation\n",
    "import matplotlib.pyplot as plt\n",
    "import seaborn as sns\n",
    "%matplotlib inline\n",
    "sns.set(style=\"whitegrid\", context='talk')\n"
   ]
  },
  {
   "cell_type": "code",
   "execution_count": 3,
   "metadata": {},
   "outputs": [
    {
     "data": {
      "text/html": [
       "<div>\n",
       "<style scoped>\n",
       "    .dataframe tbody tr th:only-of-type {\n",
       "        vertical-align: middle;\n",
       "    }\n",
       "\n",
       "    .dataframe tbody tr th {\n",
       "        vertical-align: top;\n",
       "    }\n",
       "\n",
       "    .dataframe thead th {\n",
       "        text-align: right;\n",
       "    }\n",
       "</style>\n",
       "<table border=\"1\" class=\"dataframe\">\n",
       "  <thead>\n",
       "    <tr style=\"text-align: right;\">\n",
       "      <th></th>\n",
       "      <th>tweet</th>\n",
       "      <th>sentiment</th>\n",
       "    </tr>\n",
       "  </thead>\n",
       "  <tbody>\n",
       "    <tr>\n",
       "      <th>0</th>\n",
       "      <td>Today in Selfcare: beauty &amp;amp; laughs Kung Fu...</td>\n",
       "      <td>positive</td>\n",
       "    </tr>\n",
       "    <tr>\n",
       "      <th>1</th>\n",
       "      <td>I get to spend New Year's home again alone and...</td>\n",
       "      <td>negative</td>\n",
       "    </tr>\n",
       "    <tr>\n",
       "      <th>2</th>\n",
       "      <td>Depressed and lonely /: Stuck in a deep, never...</td>\n",
       "      <td>negative</td>\n",
       "    </tr>\n",
       "    <tr>\n",
       "      <th>3</th>\n",
       "      <td>If this is your response to someone saying the...</td>\n",
       "      <td>negative</td>\n",
       "    </tr>\n",
       "    <tr>\n",
       "      <th>4</th>\n",
       "      <td>Apparently you get a free pass just by mention...</td>\n",
       "      <td>positive</td>\n",
       "    </tr>\n",
       "  </tbody>\n",
       "</table>\n",
       "</div>"
      ],
      "text/plain": [
       "                                               tweet sentiment\n",
       "0  Today in Selfcare: beauty &amp; laughs Kung Fu...  positive\n",
       "1  I get to spend New Year's home again alone and...  negative\n",
       "2  Depressed and lonely /: Stuck in a deep, never...  negative\n",
       "3  If this is your response to someone saying the...  negative\n",
       "4  Apparently you get a free pass just by mention...  positive"
      ]
     },
     "execution_count": 3,
     "metadata": {},
     "output_type": "execute_result"
    }
   ],
   "source": [
    "sample = pd.read_csv('tweets_combined_edited.csv')\n",
    "#print(f\"{sample.shape[0]} rows and {sample.shape[1]} columns\")\n",
    "sample.head()"
   ]
  },
  {
   "cell_type": "code",
   "execution_count": 4,
   "metadata": {},
   "outputs": [
    {
     "data": {
      "text/plain": [
       "positive    2226\n",
       "negative     974\n",
       "Name: sentiment, dtype: int64"
      ]
     },
     "execution_count": 4,
     "metadata": {},
     "output_type": "execute_result"
    }
   ],
   "source": [
    "#looking at splits 1 for negative 0 for positive\n",
    "sample['sentiment'].value_counts()"
   ]
  },
  {
   "cell_type": "code",
   "execution_count": 5,
   "metadata": {},
   "outputs": [
    {
     "data": {
      "text/html": [
       "<div>\n",
       "<style scoped>\n",
       "    .dataframe tbody tr th:only-of-type {\n",
       "        vertical-align: middle;\n",
       "    }\n",
       "\n",
       "    .dataframe tbody tr th {\n",
       "        vertical-align: top;\n",
       "    }\n",
       "\n",
       "    .dataframe thead th {\n",
       "        text-align: right;\n",
       "    }\n",
       "</style>\n",
       "<table border=\"1\" class=\"dataframe\">\n",
       "  <thead>\n",
       "    <tr style=\"text-align: right;\">\n",
       "      <th></th>\n",
       "      <th>Unnamed: 0</th>\n",
       "      <th>tweet</th>\n",
       "      <th>sentiment</th>\n",
       "      <th>new_tweets</th>\n",
       "    </tr>\n",
       "  </thead>\n",
       "  <tbody>\n",
       "    <tr>\n",
       "      <th>0</th>\n",
       "      <td>0</td>\n",
       "      <td>@switchfoot http://twitpic.com/2y1zl - Awww, t...</td>\n",
       "      <td>negative</td>\n",
       "      <td>switchfoot awww that s bummer shoulda get davi...</td>\n",
       "    </tr>\n",
       "    <tr>\n",
       "      <th>1</th>\n",
       "      <td>1</td>\n",
       "      <td>is upset that he can't update his Facebook by ...</td>\n",
       "      <td>negative</td>\n",
       "      <td>upset ca nt update facebook texting might cry ...</td>\n",
       "    </tr>\n",
       "    <tr>\n",
       "      <th>2</th>\n",
       "      <td>2</td>\n",
       "      <td>@Kenichan I dived many times for the ball. Man...</td>\n",
       "      <td>negative</td>\n",
       "      <td>kenichan dive many time ball manage save 50 re...</td>\n",
       "    </tr>\n",
       "    <tr>\n",
       "      <th>3</th>\n",
       "      <td>3</td>\n",
       "      <td>my whole body feels itchy and like its on fire</td>\n",
       "      <td>negative</td>\n",
       "      <td>whole body feel itchy like fire</td>\n",
       "    </tr>\n",
       "    <tr>\n",
       "      <th>4</th>\n",
       "      <td>4</td>\n",
       "      <td>@nationwideclass no, it's not behaving at all....</td>\n",
       "      <td>negative</td>\n",
       "      <td>nationwideclass behaving I m mad ca nt see</td>\n",
       "    </tr>\n",
       "  </tbody>\n",
       "</table>\n",
       "</div>"
      ],
      "text/plain": [
       "   Unnamed: 0                                              tweet sentiment  \\\n",
       "0           0  @switchfoot http://twitpic.com/2y1zl - Awww, t...  negative   \n",
       "1           1  is upset that he can't update his Facebook by ...  negative   \n",
       "2           2  @Kenichan I dived many times for the ball. Man...  negative   \n",
       "3           3    my whole body feels itchy and like its on fire   negative   \n",
       "4           4  @nationwideclass no, it's not behaving at all....  negative   \n",
       "\n",
       "                                          new_tweets  \n",
       "0  switchfoot awww that s bummer shoulda get davi...  \n",
       "1  upset ca nt update facebook texting might cry ...  \n",
       "2  kenichan dive many time ball manage save 50 re...  \n",
       "3                    whole body feel itchy like fire  \n",
       "4         nationwideclass behaving I m mad ca nt see  "
      ]
     },
     "execution_count": 5,
     "metadata": {},
     "output_type": "execute_result"
    }
   ],
   "source": [
    "file = 'sentiment140_processedv3.csv' \n",
    "\n",
    "import chardet\n",
    "with open(file, 'rb') as rawdata:\n",
    "    result = chardet.detect(rawdata.read(100000))\n",
    "result\n",
    "\n",
    "\n",
    "df= pd.read_csv(file,encoding='ISO-8859-1')\n",
    "\n",
    "df.head()"
   ]
  },
  {
   "cell_type": "code",
   "execution_count": 6,
   "metadata": {},
   "outputs": [
    {
     "data": {
      "text/plain": [
       "negative    532088\n",
       "positive     32950\n",
       "Name: sentiment, dtype: int64"
      ]
     },
     "execution_count": 6,
     "metadata": {},
     "output_type": "execute_result"
    }
   ],
   "source": [
    "df['sentiment'].value_counts()"
   ]
  },
  {
   "cell_type": "code",
   "execution_count": 7,
   "metadata": {},
   "outputs": [
    {
     "data": {
      "text/html": [
       "<div>\n",
       "<style scoped>\n",
       "    .dataframe tbody tr th:only-of-type {\n",
       "        vertical-align: middle;\n",
       "    }\n",
       "\n",
       "    .dataframe tbody tr th {\n",
       "        vertical-align: top;\n",
       "    }\n",
       "\n",
       "    .dataframe thead tr th {\n",
       "        text-align: left;\n",
       "    }\n",
       "\n",
       "    .dataframe thead tr:last-of-type th {\n",
       "        text-align: right;\n",
       "    }\n",
       "</style>\n",
       "<table border=\"1\" class=\"dataframe\">\n",
       "  <thead>\n",
       "    <tr>\n",
       "      <th></th>\n",
       "      <th colspan=\"2\" halign=\"left\">tweet</th>\n",
       "    </tr>\n",
       "    <tr>\n",
       "      <th>target</th>\n",
       "      <th>0</th>\n",
       "      <th>1</th>\n",
       "    </tr>\n",
       "    <tr>\n",
       "      <th>sentiment</th>\n",
       "      <th></th>\n",
       "      <th></th>\n",
       "    </tr>\n",
       "  </thead>\n",
       "  <tbody>\n",
       "    <tr>\n",
       "      <th>negative</th>\n",
       "      <td>NaN</td>\n",
       "      <td>974.0</td>\n",
       "    </tr>\n",
       "    <tr>\n",
       "      <th>positive</th>\n",
       "      <td>2226.0</td>\n",
       "      <td>NaN</td>\n",
       "    </tr>\n",
       "  </tbody>\n",
       "</table>\n",
       "</div>"
      ],
      "text/plain": [
       "            tweet       \n",
       "target          0      1\n",
       "sentiment               \n",
       "negative      NaN  974.0\n",
       "positive   2226.0    NaN"
      ]
     },
     "execution_count": 7,
     "metadata": {},
     "output_type": "execute_result"
    }
   ],
   "source": [
    "# Encode to numeric\n",
    "sample['target'] = np.where(sample['sentiment']=='positive', 0, 1)\n",
    "# Check values\n",
    "sample.groupby(['sentiment', 'target']).count().unstack()"
   ]
  },
  {
   "cell_type": "code",
   "execution_count": 8,
   "metadata": {},
   "outputs": [
    {
     "name": "stderr",
     "output_type": "stream",
     "text": [
      "<ipython-input-8-a32ac6d22d91>:5: SettingWithCopyWarning: \n",
      "A value is trying to be set on a copy of a slice from a DataFrame.\n",
      "Try using .loc[row_indexer,col_indexer] = value instead\n",
      "\n",
      "See the caveats in the documentation: https://pandas.pydata.org/pandas-docs/stable/user_guide/indexing.html#returning-a-view-versus-a-copy\n",
      "  df1['target'] = np.where(df['sentiment']=='positive', 1, 0)\n"
     ]
    },
    {
     "data": {
      "text/html": [
       "<div>\n",
       "<style scoped>\n",
       "    .dataframe tbody tr th:only-of-type {\n",
       "        vertical-align: middle;\n",
       "    }\n",
       "\n",
       "    .dataframe tbody tr th {\n",
       "        vertical-align: top;\n",
       "    }\n",
       "\n",
       "    .dataframe thead tr th {\n",
       "        text-align: left;\n",
       "    }\n",
       "\n",
       "    .dataframe thead tr:last-of-type th {\n",
       "        text-align: right;\n",
       "    }\n",
       "</style>\n",
       "<table border=\"1\" class=\"dataframe\">\n",
       "  <thead>\n",
       "    <tr>\n",
       "      <th></th>\n",
       "      <th colspan=\"2\" halign=\"left\">new_tweets</th>\n",
       "    </tr>\n",
       "    <tr>\n",
       "      <th>target</th>\n",
       "      <th>0</th>\n",
       "      <th>1</th>\n",
       "    </tr>\n",
       "    <tr>\n",
       "      <th>sentiment</th>\n",
       "      <th></th>\n",
       "      <th></th>\n",
       "    </tr>\n",
       "  </thead>\n",
       "  <tbody>\n",
       "    <tr>\n",
       "      <th>negative</th>\n",
       "      <td>531930.0</td>\n",
       "      <td>NaN</td>\n",
       "    </tr>\n",
       "    <tr>\n",
       "      <th>positive</th>\n",
       "      <td>NaN</td>\n",
       "      <td>32939.0</td>\n",
       "    </tr>\n",
       "  </tbody>\n",
       "</table>\n",
       "</div>"
      ],
      "text/plain": [
       "          new_tweets         \n",
       "target             0        1\n",
       "sentiment                    \n",
       "negative    531930.0      NaN\n",
       "positive         NaN  32939.0"
      ]
     },
     "execution_count": 8,
     "metadata": {},
     "output_type": "execute_result"
    }
   ],
   "source": [
    "# Select the ones you want\n",
    "df1 = df[['new_tweets','sentiment']]\n",
    "\n",
    "# Encode to numeric\n",
    "df1['target'] = np.where(df['sentiment']=='positive', 1, 0)\n",
    "# Check values\n",
    "df1.groupby(['sentiment', 'target']).count().unstack()"
   ]
  },
  {
   "cell_type": "code",
   "execution_count": 9,
   "metadata": {},
   "outputs": [
    {
     "name": "stdout",
     "output_type": "stream",
     "text": [
      "Train: 3180 rows and 2 columns\n",
      "0    2209\n",
      "1     971\n",
      "Name: target, dtype: int64\n",
      "\n",
      "Test: 20 rows and 2 columns\n",
      "0    17\n",
      "1     3\n",
      "Name: target, dtype: int64\n"
     ]
    }
   ],
   "source": [
    "X_train, X_test, y_train, y_test = train_test_split(sample['tweet'], sample['target'], test_size=20, random_state=seed)\n",
    "\n",
    "train = pd.concat([X_train, y_train], axis=1)\n",
    "test = pd.concat([X_test, y_test], axis=1)\n",
    "\n",
    "print(f\"Train: {train.shape[0]} rows and {train.shape[1]} columns\")\n",
    "print(f\"{train['target'].value_counts()}\\n\")\n",
    "print(f\"Test: {test.shape[0]} rows and {test.shape[1]} columns\")\n",
    "print(test['target'].value_counts())"
   ]
  },
  {
   "cell_type": "code",
   "execution_count": 10,
   "metadata": {},
   "outputs": [
    {
     "name": "stdout",
     "output_type": "stream",
     "text": [
      "Train1: 5038 rows and 2 columns\n",
      "0    4730\n",
      "1     308\n",
      "Name: target, dtype: int64\n",
      "\n",
      "Test1: 560000 rows and 2 columns\n",
      "0    527358\n",
      "1     32642\n",
      "Name: target, dtype: int64\n"
     ]
    }
   ],
   "source": [
    "X_train1, X_test1, y_train1, y_test1 = train_test_split(df1['new_tweets'], df1['target'], test_size=560000, random_state=seed)\n",
    "\n",
    "train1 = pd.concat([X_train1, y_train1], axis=1)\n",
    "test1 = pd.concat([X_test1, y_test1], axis=1)\n",
    "\n",
    "print(f\"Train1: {train1.shape[0]} rows and {train1.shape[1]} columns\")\n",
    "print(f\"{train1['target'].value_counts()}\\n\")\n",
    "print(f\"Test1: {test1.shape[0]} rows and {test1.shape[1]} columns\")\n",
    "print(test1['target'].value_counts())"
   ]
  },
  {
   "cell_type": "code",
   "execution_count": 11,
   "metadata": {},
   "outputs": [
    {
     "data": {
      "text/html": [
       "<div>\n",
       "<style scoped>\n",
       "    .dataframe tbody tr th:only-of-type {\n",
       "        vertical-align: middle;\n",
       "    }\n",
       "\n",
       "    .dataframe tbody tr th {\n",
       "        vertical-align: top;\n",
       "    }\n",
       "\n",
       "    .dataframe thead th {\n",
       "        text-align: right;\n",
       "    }\n",
       "</style>\n",
       "<table border=\"1\" class=\"dataframe\">\n",
       "  <thead>\n",
       "    <tr style=\"text-align: right;\">\n",
       "      <th></th>\n",
       "      <th>tweet</th>\n",
       "      <th>target</th>\n",
       "    </tr>\n",
       "  </thead>\n",
       "  <tbody>\n",
       "    <tr>\n",
       "      <th>2503</th>\n",
       "      <td>I just feelso defeated by life at the moment</td>\n",
       "      <td>1</td>\n",
       "    </tr>\n",
       "    <tr>\n",
       "      <th>748</th>\n",
       "      <td>just tryna talk to somone and they got to be c...</td>\n",
       "      <td>1</td>\n",
       "    </tr>\n",
       "    <tr>\n",
       "      <th>80</th>\n",
       "      <td>\"Anxiety is like a tornado, the most violent, ...</td>\n",
       "      <td>1</td>\n",
       "    </tr>\n",
       "    <tr>\n",
       "      <th>1611</th>\n",
       "      <td>this year was fuckd up I can't wait for it to ...</td>\n",
       "      <td>1</td>\n",
       "    </tr>\n",
       "    <tr>\n",
       "      <th>2849</th>\n",
       "      <td>Human being is a design of expression that des...</td>\n",
       "      <td>0</td>\n",
       "    </tr>\n",
       "  </tbody>\n",
       "</table>\n",
       "</div>"
      ],
      "text/plain": [
       "                                                  tweet  target\n",
       "2503       I just feelso defeated by life at the moment       1\n",
       "748   just tryna talk to somone and they got to be c...       1\n",
       "80    \"Anxiety is like a tornado, the most violent, ...       1\n",
       "1611  this year was fuckd up I can't wait for it to ...       1\n",
       "2849  Human being is a design of expression that des...       0"
      ]
     },
     "execution_count": 11,
     "metadata": {},
     "output_type": "execute_result"
    }
   ],
   "source": [
    "train.head()"
   ]
  },
  {
   "cell_type": "code",
   "execution_count": 12,
   "metadata": {},
   "outputs": [
    {
     "data": {
      "text/html": [
       "<div>\n",
       "<style scoped>\n",
       "    .dataframe tbody tr th:only-of-type {\n",
       "        vertical-align: middle;\n",
       "    }\n",
       "\n",
       "    .dataframe tbody tr th {\n",
       "        vertical-align: top;\n",
       "    }\n",
       "\n",
       "    .dataframe thead th {\n",
       "        text-align: right;\n",
       "    }\n",
       "</style>\n",
       "<table border=\"1\" class=\"dataframe\">\n",
       "  <thead>\n",
       "    <tr style=\"text-align: right;\">\n",
       "      <th></th>\n",
       "      <th>new_tweets</th>\n",
       "      <th>target</th>\n",
       "    </tr>\n",
       "  </thead>\n",
       "  <tbody>\n",
       "    <tr>\n",
       "      <th>28754</th>\n",
       "      <td>layc enough time day</td>\n",
       "      <td>0</td>\n",
       "    </tr>\n",
       "    <tr>\n",
       "      <th>8403</th>\n",
       "      <td>31 patch today wow maybe next week</td>\n",
       "      <td>0</td>\n",
       "    </tr>\n",
       "    <tr>\n",
       "      <th>174014</th>\n",
       "      <td>soozafritz I m bored get nothing</td>\n",
       "      <td>0</td>\n",
       "    </tr>\n",
       "    <tr>\n",
       "      <th>557399</th>\n",
       "      <td>xkayteebear okay dunno xd haha I m listen alwa...</td>\n",
       "      <td>1</td>\n",
       "    </tr>\n",
       "    <tr>\n",
       "      <th>538668</th>\n",
       "      <td>tommcfly woooo go tom get break dawn xx</td>\n",
       "      <td>1</td>\n",
       "    </tr>\n",
       "  </tbody>\n",
       "</table>\n",
       "</div>"
      ],
      "text/plain": [
       "                                               new_tweets  target\n",
       "28754                                layc enough time day       0\n",
       "8403                   31 patch today wow maybe next week       0\n",
       "174014                   soozafritz I m bored get nothing       0\n",
       "557399  xkayteebear okay dunno xd haha I m listen alwa...       1\n",
       "538668            tommcfly woooo go tom get break dawn xx       1"
      ]
     },
     "execution_count": 12,
     "metadata": {},
     "output_type": "execute_result"
    }
   ],
   "source": [
    "test1.head()"
   ]
  },
  {
   "cell_type": "code",
   "execution_count": 13,
   "metadata": {},
   "outputs": [],
   "source": [
    "sid = SentimentIntensityAnalyzer()"
   ]
  },
  {
   "cell_type": "code",
   "execution_count": 14,
   "metadata": {},
   "outputs": [
    {
     "data": {
      "text/html": [
       "<div>\n",
       "<style scoped>\n",
       "    .dataframe tbody tr th:only-of-type {\n",
       "        vertical-align: middle;\n",
       "    }\n",
       "\n",
       "    .dataframe tbody tr th {\n",
       "        vertical-align: top;\n",
       "    }\n",
       "\n",
       "    .dataframe thead th {\n",
       "        text-align: right;\n",
       "    }\n",
       "</style>\n",
       "<table border=\"1\" class=\"dataframe\">\n",
       "  <thead>\n",
       "    <tr style=\"text-align: right;\">\n",
       "      <th></th>\n",
       "      <th>tweet</th>\n",
       "      <th>target</th>\n",
       "      <th>neg</th>\n",
       "      <th>neu</th>\n",
       "      <th>pos</th>\n",
       "      <th>compound</th>\n",
       "    </tr>\n",
       "  </thead>\n",
       "  <tbody>\n",
       "    <tr>\n",
       "      <th>2503</th>\n",
       "      <td>I just feelso defeated by life at the moment</td>\n",
       "      <td>1</td>\n",
       "      <td>0.307</td>\n",
       "      <td>0.693</td>\n",
       "      <td>0.000</td>\n",
       "      <td>-0.4767</td>\n",
       "    </tr>\n",
       "    <tr>\n",
       "      <th>748</th>\n",
       "      <td>just tryna talk to somone and they got to be c...</td>\n",
       "      <td>1</td>\n",
       "      <td>0.365</td>\n",
       "      <td>0.635</td>\n",
       "      <td>0.000</td>\n",
       "      <td>-0.8481</td>\n",
       "    </tr>\n",
       "    <tr>\n",
       "      <th>80</th>\n",
       "      <td>\"Anxiety is like a tornado, the most violent, ...</td>\n",
       "      <td>1</td>\n",
       "      <td>0.605</td>\n",
       "      <td>0.291</td>\n",
       "      <td>0.104</td>\n",
       "      <td>-0.9197</td>\n",
       "    </tr>\n",
       "    <tr>\n",
       "      <th>1611</th>\n",
       "      <td>this year was fuckd up I can't wait for it to ...</td>\n",
       "      <td>1</td>\n",
       "      <td>0.330</td>\n",
       "      <td>0.670</td>\n",
       "      <td>0.000</td>\n",
       "      <td>-0.8708</td>\n",
       "    </tr>\n",
       "    <tr>\n",
       "      <th>2849</th>\n",
       "      <td>Human being is a design of expression that des...</td>\n",
       "      <td>0</td>\n",
       "      <td>0.000</td>\n",
       "      <td>1.000</td>\n",
       "      <td>0.000</td>\n",
       "      <td>0.0000</td>\n",
       "    </tr>\n",
       "  </tbody>\n",
       "</table>\n",
       "</div>"
      ],
      "text/plain": [
       "                                                  tweet  target    neg    neu  \\\n",
       "2503       I just feelso defeated by life at the moment       1  0.307  0.693   \n",
       "748   just tryna talk to somone and they got to be c...       1  0.365  0.635   \n",
       "80    \"Anxiety is like a tornado, the most violent, ...       1  0.605  0.291   \n",
       "1611  this year was fuckd up I can't wait for it to ...       1  0.330  0.670   \n",
       "2849  Human being is a design of expression that des...       0  0.000  1.000   \n",
       "\n",
       "        pos  compound  \n",
       "2503  0.000   -0.4767  \n",
       "748   0.000   -0.8481  \n",
       "80    0.104   -0.9197  \n",
       "1611  0.000   -0.8708  \n",
       "2849  0.000    0.0000  "
      ]
     },
     "execution_count": 14,
     "metadata": {},
     "output_type": "execute_result"
    }
   ],
   "source": [
    "train[['neg', 'neu', 'pos', 'compound']] = train['tweet'].apply(sid.polarity_scores).apply(pd.Series)\n",
    "train.head()"
   ]
  },
  {
   "cell_type": "code",
   "execution_count": 15,
   "metadata": {},
   "outputs": [
    {
     "name": "stderr",
     "output_type": "stream",
     "text": [
      "C:\\Users\\user\\anaconda3\\lib\\site-packages\\seaborn\\distributions.py:2551: FutureWarning: `distplot` is a deprecated function and will be removed in a future version. Please adapt your code to use either `displot` (a figure-level function with similar flexibility) or `histplot` (an axes-level function for histograms).\n",
      "  warnings.warn(msg, FutureWarning)\n"
     ]
    },
    {
     "data": {
      "image/png": "[encoded data removed]",
      "text/plain": [
       "<Figure size 648x288 with 1 Axes>"
      ]
     },
     "metadata": {},
     "output_type": "display_data"
    },
    {
     "data": {
      "image/png": "[encoded data removed]",
      "text/plain": [
       "<Figure size 648x288 with 1 Axes>"
      ]
     },
     "metadata": {},
     "output_type": "display_data"
    },
    {
     "data": {
      "image/png": "[encoded data removed]",
      "text/plain": [
       "<Figure size 648x288 with 1 Axes>"
      ]
     },
     "metadata": {},
     "output_type": "display_data"
    },
    {
     "data": {
      "image/png": "[encoded data removed]",
      "text/plain": [
       "<Figure size 648x288 with 1 Axes>"
      ]
     },
     "metadata": {},
     "output_type": "display_data"
    }
   ],
   "source": [
    "for var in ['pos', 'neg', 'neu', 'compound']:\n",
    "    plt.figure(figsize=(9,4))\n",
    "    sns.distplot(train.query(\"target==1\")[var], bins=30, kde=False, \n",
    "                 color='green', label='Positive')\n",
    "    sns.distplot(train.query(\"target==0\")[var], bins=30, kde=False, \n",
    "                 color='red', label='Negative')\n",
    "    plt.legend()\n",
    "    plt.title(f'Histogram of {var} by true sentiment');"
   ]
  },
  {
   "cell_type": "code",
   "execution_count": 16,
   "metadata": {},
   "outputs": [
    {
     "name": "stdout",
     "output_type": "stream",
     "text": [
      "              precision    recall  f1-score   support\n",
      "\n",
      "    negative       0.78      0.51      0.62      2209\n",
      "    positive       0.38      0.68      0.49       971\n",
      "\n",
      "    accuracy                           0.56      3180\n",
      "   macro avg       0.58      0.60      0.55      3180\n",
      "weighted avg       0.66      0.56      0.58      3180\n",
      "\n"
     ]
    }
   ],
   "source": [
    "train['vader_polarity'] = np.where(train['pos']>train['neg'], 0, 1)\n",
    "target_names=['negative', 'positive']\n",
    "print(classification_report(train['target'], \n",
    "                            train['vader_polarity'], \n",
    "                            target_names=target_names))"
   ]
  },
  {
   "cell_type": "code",
   "execution_count": 17,
   "metadata": {},
   "outputs": [
    {
     "data": {
      "image/png": "[encoded data removed]",
      "text/plain": [
       "<Figure size 360x216 with 1 Axes>"
      ]
     },
     "metadata": {},
     "output_type": "display_data"
    }
   ],
   "source": [
    "# Create function so that we could reuse later\n",
    "def plot_cm(y_test, y_pred, target_names=['negative', 'positive'], \n",
    "            figsize=(5,3)):\n",
    "    \"\"\"Create a labelled confusion matrix plot.\"\"\"\n",
    "    cm = confusion_matrix(y_test, y_pred)\n",
    "    fig, ax = plt.subplots(figsize=figsize)\n",
    "    sns.heatmap(cm, annot=True, fmt='g', cmap='BuGn', cbar=False, \n",
    "                ax=ax)\n",
    "    ax.set_title('Confusion matrix')\n",
    "    ax.set_xlabel('Predicted')\n",
    "    ax.set_xticklabels(target_names)\n",
    "    ax.set_ylabel('Actual')\n",
    "    ax.set_yticklabels(target_names, \n",
    "                       fontdict={'verticalalignment': 'center'});\n",
    "# Plot confusion matrix\n",
    "plot_cm(train['target'], train['vader_polarity'])"
   ]
  },
  {
   "cell_type": "code",
   "execution_count": 18,
   "metadata": {},
   "outputs": [
    {
     "name": "stdout",
     "output_type": "stream",
     "text": [
      "              precision    recall  f1-score   support\n",
      "\n",
      "    negative       0.62      0.49      0.55      2209\n",
      "    positive       0.22      0.32      0.26       971\n",
      "\n",
      "    accuracy                           0.44      3180\n",
      "   macro avg       0.42      0.40      0.40      3180\n",
      "weighted avg       0.50      0.44      0.46      3180\n",
      "\n"
     ]
    }
   ],
   "source": [
    "train['vader_compound'] = np.where(train['compound']>0, 1, 0)\n",
    "print(classification_report(train['target'], \n",
    "                            train['vader_compound'], \n",
    "                            target_names=target_names))"
   ]
  },
  {
   "cell_type": "code",
   "execution_count": 19,
   "metadata": {},
   "outputs": [],
   "source": [
    "# Define functions\n",
    "def create_baseline_models():\n",
    "    \"\"\"Create list of baseline models.\"\"\"\n",
    "    models = []\n",
    "    models.append(('log', LogisticRegression(random_state=seed, \n",
    "                                             max_iter=1000)))\n",
    "    models.append(('sgd', SGDClassifier(random_state=seed)))\n",
    "    models.append(('mnb', MultinomialNB()))\n",
    "    return models\n",
    "def assess(X, y, models, cv=5, scoring=['roc_auc', \n",
    "                                        'accuracy', \n",
    "                                        'f1']):\n",
    "    \"\"\"Provide summary of cross validation results for models.\"\"\"\n",
    "    results = pd.DataFrame()\n",
    "    for name, model in models:\n",
    "        result = pd.DataFrame(cross_validate(model, X, y, cv=cv, \n",
    "                                             scoring=scoring))\n",
    "        mean = result.mean().rename('{}_mean'.format)\n",
    "        std = result.std().rename('{}_std'.format)\n",
    "        results[name] = pd.concat([mean, std], axis=0)\n",
    "    return results.sort_index()"
   ]
  },
  {
   "cell_type": "code",
   "execution_count": 20,
   "metadata": {},
   "outputs": [
    {
     "data": {
      "text/plain": [
       "[('log', LogisticRegression(max_iter=1000, random_state=123)),\n",
       " ('sgd', SGDClassifier(random_state=123)),\n",
       " ('mnb', MultinomialNB())]"
      ]
     },
     "execution_count": 20,
     "metadata": {},
     "output_type": "execute_result"
    }
   ],
   "source": [
    "models = create_baseline_models()\n",
    "models"
   ]
  },
  {
   "cell_type": "code",
   "execution_count": 21,
   "metadata": {},
   "outputs": [
    {
     "name": "stdout",
     "output_type": "stream",
     "text": [
      "  (0, 48)\t0.7592679206795689\n",
      "  (0, 45)\t0.6507781685235944\n",
      "  (1, 31)\t0.5442859823678282\n",
      "  (1, 82)\t0.5927684894049895\n",
      "  (1, 48)\t0.4507125192111256\n",
      "  (1, 45)\t0.3863114189262025\n",
      "  (2, 49)\t1.0\n",
      "  (3, 27)\t0.3993187465639052\n",
      "  (3, 88)\t0.3152059265717668\n",
      "  (3, 35)\t0.397554963453998\n",
      "  (3, 16)\t0.3738431639621583\n",
      "  (3, 81)\t0.22105355239156685\n",
      "  (3, 106)\t0.6281054284621232\n",
      "  (5, 98)\t0.7883885199652869\n",
      "  (5, 45)\t0.6151776504286746\n",
      "  (6, 10)\t0.7738757793334674\n",
      "  (6, 55)\t0.6333374125701232\n",
      "  (8, 14)\t0.44718850737524596\n",
      "  (8, 8)\t0.6133193596598102\n",
      "  (8, 34)\t0.4465806961171739\n",
      "  (8, 55)\t0.4737377795716533\n",
      "  (9, 11)\t0.28689621725181075\n",
      "  (9, 93)\t0.28094698828134557\n",
      "  (9, 71)\t0.28573016767958853\n",
      "  (9, 89)\t0.34981323582100193\n",
      "  :\t:\n",
      "  (3172, 20)\t0.43127560133909815\n",
      "  (3172, 81)\t0.3335863326793574\n",
      "  (3173, 37)\t1.0\n",
      "  (3174, 107)\t0.48481194785137127\n",
      "  (3174, 20)\t0.3544585452029174\n",
      "  (3174, 65)\t0.42037115956759413\n",
      "  (3174, 81)\t0.27416929177992416\n",
      "  (3174, 106)\t0.3895147094934354\n",
      "  (3174, 48)\t0.3686275810292846\n",
      "  (3174, 45)\t0.31595537690412007\n",
      "  (3175, 18)\t0.48076470452198494\n",
      "  (3175, 87)\t0.48878295989288917\n",
      "  (3175, 7)\t0.4438836879342197\n",
      "  (3175, 57)\t0.40021292934214203\n",
      "  (3175, 31)\t0.4156361386808571\n",
      "  (3176, 61)\t0.6831942016106829\n",
      "  (3176, 13)\t0.6331794158163075\n",
      "  (3176, 81)\t0.3637712334312059\n",
      "  (3177, 0)\t0.5652216476906713\n",
      "  (3177, 94)\t0.549706035431866\n",
      "  (3177, 14)\t0.4352369223306031\n",
      "  (3177, 34)\t0.4346453554701891\n",
      "  (3178, 6)\t0.5979132872642977\n",
      "  (3178, 40)\t0.6862579442869838\n",
      "  (3178, 45)\t0.4141856284515487\n"
     ]
    },
    {
     "data": {
      "text/html": [
       "<div>\n",
       "<style scoped>\n",
       "    .dataframe tbody tr th:only-of-type {\n",
       "        vertical-align: middle;\n",
       "    }\n",
       "\n",
       "    .dataframe tbody tr th {\n",
       "        vertical-align: top;\n",
       "    }\n",
       "\n",
       "    .dataframe thead th {\n",
       "        text-align: right;\n",
       "    }\n",
       "</style>\n",
       "<table border=\"1\" class=\"dataframe\">\n",
       "  <thead>\n",
       "    <tr style=\"text-align: right;\">\n",
       "      <th></th>\n",
       "      <th>log</th>\n",
       "      <th>sgd</th>\n",
       "      <th>mnb</th>\n",
       "    </tr>\n",
       "  </thead>\n",
       "  <tbody>\n",
       "    <tr>\n",
       "      <th>fit_time_mean</th>\n",
       "      <td>0.080085</td>\n",
       "      <td>0.035570</td>\n",
       "      <td>0.001799</td>\n",
       "    </tr>\n",
       "    <tr>\n",
       "      <th>fit_time_std</th>\n",
       "      <td>0.115948</td>\n",
       "      <td>0.053354</td>\n",
       "      <td>0.000447</td>\n",
       "    </tr>\n",
       "    <tr>\n",
       "      <th>score_time_mean</th>\n",
       "      <td>0.002997</td>\n",
       "      <td>0.004398</td>\n",
       "      <td>0.003598</td>\n",
       "    </tr>\n",
       "    <tr>\n",
       "      <th>score_time_std</th>\n",
       "      <td>0.000006</td>\n",
       "      <td>0.001136</td>\n",
       "      <td>0.000548</td>\n",
       "    </tr>\n",
       "    <tr>\n",
       "      <th>test_accuracy_mean</th>\n",
       "      <td>0.748428</td>\n",
       "      <td>0.739623</td>\n",
       "      <td>0.739937</td>\n",
       "    </tr>\n",
       "    <tr>\n",
       "      <th>test_accuracy_std</th>\n",
       "      <td>0.020889</td>\n",
       "      <td>0.023178</td>\n",
       "      <td>0.009073</td>\n",
       "    </tr>\n",
       "    <tr>\n",
       "      <th>test_f1_mean</th>\n",
       "      <td>0.465489</td>\n",
       "      <td>0.465073</td>\n",
       "      <td>0.375619</td>\n",
       "    </tr>\n",
       "    <tr>\n",
       "      <th>test_f1_std</th>\n",
       "      <td>0.038777</td>\n",
       "      <td>0.047851</td>\n",
       "      <td>0.020486</td>\n",
       "    </tr>\n",
       "    <tr>\n",
       "      <th>test_roc_auc_mean</th>\n",
       "      <td>0.756019</td>\n",
       "      <td>0.739810</td>\n",
       "      <td>0.745362</td>\n",
       "    </tr>\n",
       "    <tr>\n",
       "      <th>test_roc_auc_std</th>\n",
       "      <td>0.020570</td>\n",
       "      <td>0.019021</td>\n",
       "      <td>0.021650</td>\n",
       "    </tr>\n",
       "  </tbody>\n",
       "</table>\n",
       "</div>"
      ],
      "text/plain": [
       "                         log       sgd       mnb\n",
       "fit_time_mean       0.080085  0.035570  0.001799\n",
       "fit_time_std        0.115948  0.053354  0.000447\n",
       "score_time_mean     0.002997  0.004398  0.003598\n",
       "score_time_std      0.000006  0.001136  0.000548\n",
       "test_accuracy_mean  0.748428  0.739623  0.739937\n",
       "test_accuracy_std   0.020889  0.023178  0.009073\n",
       "test_f1_mean        0.465489  0.465073  0.375619\n",
       "test_f1_std         0.038777  0.047851  0.020486\n",
       "test_roc_auc_mean   0.756019  0.739810  0.745362\n",
       "test_roc_auc_std    0.020570  0.019021  0.021650"
      ]
     },
     "execution_count": 21,
     "metadata": {},
     "output_type": "execute_result"
    }
   ],
   "source": [
    "# Preprocess the data\n",
    "vectoriser = TfidfVectorizer(token_pattern=r'[a-z]+', \n",
    "                             stop_words='english', \n",
    "                             min_df=30, \n",
    "                             max_df=.7)\n",
    "X_train_simpler = vectoriser.fit_transform(X_train)\n",
    "\n",
    "print(X_train_simpler)\n",
    "\n",
    "# Assess the model\n",
    "assess(X_train_simpler, y_train, models)"
   ]
  },
  {
   "cell_type": "code",
   "execution_count": 22,
   "metadata": {},
   "outputs": [
    {
     "data": {
      "text/html": [
       "<div>\n",
       "<style scoped>\n",
       "    .dataframe tbody tr th:only-of-type {\n",
       "        vertical-align: middle;\n",
       "    }\n",
       "\n",
       "    .dataframe tbody tr th {\n",
       "        vertical-align: top;\n",
       "    }\n",
       "\n",
       "    .dataframe thead th {\n",
       "        text-align: right;\n",
       "    }\n",
       "</style>\n",
       "<table border=\"1\" class=\"dataframe\">\n",
       "  <thead>\n",
       "    <tr style=\"text-align: right;\">\n",
       "      <th></th>\n",
       "      <th>log</th>\n",
       "      <th>sgd</th>\n",
       "      <th>mnb</th>\n",
       "    </tr>\n",
       "  </thead>\n",
       "  <tbody>\n",
       "    <tr>\n",
       "      <th>fit_time_mean</th>\n",
       "      <td>0.031382</td>\n",
       "      <td>0.010396</td>\n",
       "      <td>1.998997e-03</td>\n",
       "    </tr>\n",
       "    <tr>\n",
       "      <th>fit_time_std</th>\n",
       "      <td>0.002875</td>\n",
       "      <td>0.000892</td>\n",
       "      <td>6.868773e-07</td>\n",
       "    </tr>\n",
       "    <tr>\n",
       "      <th>score_time_mean</th>\n",
       "      <td>0.003198</td>\n",
       "      <td>0.002598</td>\n",
       "      <td>2.998352e-03</td>\n",
       "    </tr>\n",
       "    <tr>\n",
       "      <th>score_time_std</th>\n",
       "      <td>0.000447</td>\n",
       "      <td>0.000547</td>\n",
       "      <td>4.460403e-07</td>\n",
       "    </tr>\n",
       "    <tr>\n",
       "      <th>test_accuracy_mean</th>\n",
       "      <td>0.768239</td>\n",
       "      <td>0.755975</td>\n",
       "      <td>7.443396e-01</td>\n",
       "    </tr>\n",
       "    <tr>\n",
       "      <th>test_accuracy_std</th>\n",
       "      <td>0.020154</td>\n",
       "      <td>0.019714</td>\n",
       "      <td>1.069876e-02</td>\n",
       "    </tr>\n",
       "    <tr>\n",
       "      <th>test_f1_mean</th>\n",
       "      <td>0.525241</td>\n",
       "      <td>0.557850</td>\n",
       "      <td>3.503123e-01</td>\n",
       "    </tr>\n",
       "    <tr>\n",
       "      <th>test_f1_std</th>\n",
       "      <td>0.042345</td>\n",
       "      <td>0.037499</td>\n",
       "      <td>1.132237e-02</td>\n",
       "    </tr>\n",
       "    <tr>\n",
       "      <th>test_roc_auc_mean</th>\n",
       "      <td>0.801385</td>\n",
       "      <td>0.792329</td>\n",
       "      <td>7.905033e-01</td>\n",
       "    </tr>\n",
       "    <tr>\n",
       "      <th>test_roc_auc_std</th>\n",
       "      <td>0.022734</td>\n",
       "      <td>0.022030</td>\n",
       "      <td>2.586095e-02</td>\n",
       "    </tr>\n",
       "  </tbody>\n",
       "</table>\n",
       "</div>"
      ],
      "text/plain": [
       "                         log       sgd           mnb\n",
       "fit_time_mean       0.031382  0.010396  1.998997e-03\n",
       "fit_time_std        0.002875  0.000892  6.868773e-07\n",
       "score_time_mean     0.003198  0.002598  2.998352e-03\n",
       "score_time_std      0.000447  0.000547  4.460403e-07\n",
       "test_accuracy_mean  0.768239  0.755975  7.443396e-01\n",
       "test_accuracy_std   0.020154  0.019714  1.069876e-02\n",
       "test_f1_mean        0.525241  0.557850  3.503123e-01\n",
       "test_f1_std         0.042345  0.037499  1.132237e-02\n",
       "test_roc_auc_mean   0.801385  0.792329  7.905033e-01\n",
       "test_roc_auc_std    0.022734  0.022030  2.586095e-02"
      ]
     },
     "execution_count": 22,
     "metadata": {},
     "output_type": "execute_result"
    }
   ],
   "source": [
    "\n",
    "# Define function\n",
    "def preprocess_text(text):\n",
    "    # 1. Tokenise to alphabetic tokens\n",
    "    tokeniser = RegexpTokenizer(r'[A-Za-z]+')\n",
    "    tokens = tokeniser.tokenize(text)\n",
    "    \n",
    "    # 2. Lowercase and lemmatise \n",
    "    lemmatiser = WordNetLemmatizer()\n",
    "    tokens = [lemmatiser.lemmatize(t.lower(), pos='v') \n",
    "              for t in tokens]\n",
    "    return tokens\n",
    "# Preprocess the data\n",
    "vectoriser = TfidfVectorizer(analyzer=preprocess_text, \n",
    "                             min_df=30, \n",
    "                             max_df=.7)\n",
    "X_train_simple = vectoriser.fit_transform(X_train)\n",
    "# Assess models\n",
    "assess(X_train_simple, y_train, models)"
   ]
  },
  {
   "cell_type": "code",
   "execution_count": 23,
   "metadata": {},
   "outputs": [
    {
     "data": {
      "image/png": "[encoded data removed]",
      "text/plain": [
       "<Figure size 1008x360 with 2 Axes>"
      ]
     },
     "metadata": {},
     "output_type": "display_data"
    }
   ],
   "source": [
    "plt.figure(figsize = (14,5))\n",
    "columns = ['target', 'neg', 'neu', 'pos', 'compound']\n",
    "sns.heatmap(train[columns].corr(), annot=True, cmap='seismic_r');"
   ]
  },
  {
   "cell_type": "code",
   "execution_count": 24,
   "metadata": {},
   "outputs": [
    {
     "data": {
      "text/html": [
       "<div>\n",
       "<style scoped>\n",
       "    .dataframe tbody tr th:only-of-type {\n",
       "        vertical-align: middle;\n",
       "    }\n",
       "\n",
       "    .dataframe tbody tr th {\n",
       "        vertical-align: top;\n",
       "    }\n",
       "\n",
       "    .dataframe thead th {\n",
       "        text-align: right;\n",
       "    }\n",
       "</style>\n",
       "<table border=\"1\" class=\"dataframe\">\n",
       "  <thead>\n",
       "    <tr style=\"text-align: right;\">\n",
       "      <th></th>\n",
       "      <th>sgd</th>\n",
       "    </tr>\n",
       "  </thead>\n",
       "  <tbody>\n",
       "    <tr>\n",
       "      <th>fit_time_mean</th>\n",
       "      <td>0.014793</td>\n",
       "    </tr>\n",
       "    <tr>\n",
       "      <th>fit_time_std</th>\n",
       "      <td>0.008009</td>\n",
       "    </tr>\n",
       "    <tr>\n",
       "      <th>score_time_mean</th>\n",
       "      <td>0.030098</td>\n",
       "    </tr>\n",
       "    <tr>\n",
       "      <th>score_time_std</th>\n",
       "      <td>0.058942</td>\n",
       "    </tr>\n",
       "    <tr>\n",
       "      <th>test_accuracy_mean</th>\n",
       "      <td>0.716667</td>\n",
       "    </tr>\n",
       "    <tr>\n",
       "      <th>test_accuracy_std</th>\n",
       "      <td>0.017872</td>\n",
       "    </tr>\n",
       "    <tr>\n",
       "      <th>test_f1_mean</th>\n",
       "      <td>0.372829</td>\n",
       "    </tr>\n",
       "    <tr>\n",
       "      <th>test_f1_std</th>\n",
       "      <td>0.127010</td>\n",
       "    </tr>\n",
       "    <tr>\n",
       "      <th>test_roc_auc_mean</th>\n",
       "      <td>0.716753</td>\n",
       "    </tr>\n",
       "    <tr>\n",
       "      <th>test_roc_auc_std</th>\n",
       "      <td>0.032858</td>\n",
       "    </tr>\n",
       "  </tbody>\n",
       "</table>\n",
       "</div>"
      ],
      "text/plain": [
       "                         sgd\n",
       "fit_time_mean       0.014793\n",
       "fit_time_std        0.008009\n",
       "score_time_mean     0.030098\n",
       "score_time_std      0.058942\n",
       "test_accuracy_mean  0.716667\n",
       "test_accuracy_std   0.017872\n",
       "test_f1_mean        0.372829\n",
       "test_f1_std         0.127010\n",
       "test_roc_auc_mean   0.716753\n",
       "test_roc_auc_std    0.032858"
      ]
     },
     "execution_count": 24,
     "metadata": {},
     "output_type": "execute_result"
    }
   ],
   "source": [
    "# Initialise a model\n",
    "sgd = SGDClassifier(random_state=seed)\n",
    "# Initialise a scaler\n",
    "scaler = MinMaxScaler()\n",
    "# Assess the model using scores\n",
    "scores = train[['neg', 'neu', 'pos', 'compound']]\n",
    "assess(scaler.fit_transform(scores), y_train, [('sgd', sgd)])"
   ]
  },
  {
   "cell_type": "code",
   "execution_count": null,
   "metadata": {},
   "outputs": [],
   "source": []
  },
  {
   "cell_type": "code",
   "execution_count": 25,
   "metadata": {},
   "outputs": [
    {
     "data": {
      "image/png": "[encoded data removed]",
      "text/plain": [
       "<Figure size 720x360 with 1 Axes>"
      ]
     },
     "metadata": {},
     "output_type": "display_data"
    }
   ],
   "source": [
    "# Fit to training data\n",
    "sgd.fit(scores, y_train)\n",
    "# Get coefficients\n",
    "coefs = pd.DataFrame(data=sgd.coef_, columns=scores.columns).T\n",
    "coefs.rename(columns={0: 'coef'}, inplace=True)\n",
    "# Plot\n",
    "plt.figure(figsize=(10,5))\n",
    "sns.barplot(x=coefs.index, y='coef', data=coefs)\n",
    "plt.title('Coefficients');"
   ]
  },
  {
   "cell_type": "code",
   "execution_count": 26,
   "metadata": {},
   "outputs": [
    {
     "data": {
      "text/plain": [
       "Pipeline(steps=[('vectoriser',\n",
       "                 TfidfVectorizer(encoding='ISO-8859-1', max_df=0.6, min_df=30,\n",
       "                                 ngram_range=(1, 2), token_pattern='[a-z]+')),\n",
       "                ('model', SGDClassifier(loss='log', random_state=123))])"
      ]
     },
     "execution_count": 26,
     "metadata": {},
     "output_type": "execute_result"
    }
   ],
   "source": [
    "\n",
    "\n",
    "pipe = Pipeline([('vectoriser', TfidfVectorizer(encoding='ISO-8859-1',token_pattern=r'[a-z]+', min_df=30, max_df=.6, ngram_range=(1,2))),\n",
    "                 ('model', SGDClassifier(random_state=seed, loss='log'))])\n",
    "pipe.fit(X_train.values.astype('U'),y_train)\n",
    "\n"
   ]
  },
  {
   "cell_type": "code",
   "execution_count": 27,
   "metadata": {},
   "outputs": [
    {
     "data": {
      "text/html": [
       "<div>\n",
       "<style scoped>\n",
       "    .dataframe tbody tr th:only-of-type {\n",
       "        vertical-align: middle;\n",
       "    }\n",
       "\n",
       "    .dataframe tbody tr th {\n",
       "        vertical-align: top;\n",
       "    }\n",
       "\n",
       "    .dataframe thead th {\n",
       "        text-align: right;\n",
       "    }\n",
       "</style>\n",
       "<table border=\"1\" class=\"dataframe\">\n",
       "  <thead>\n",
       "    <tr style=\"text-align: right;\">\n",
       "      <th></th>\n",
       "      <th>coef</th>\n",
       "    </tr>\n",
       "  </thead>\n",
       "  <tbody>\n",
       "    <tr>\n",
       "      <th>blessed</th>\n",
       "      <td>-3.206050</td>\n",
       "    </tr>\n",
       "    <tr>\n",
       "      <th>start</th>\n",
       "      <td>-2.630387</td>\n",
       "    </tr>\n",
       "    <tr>\n",
       "      <th>n</th>\n",
       "      <td>-2.568530</td>\n",
       "    </tr>\n",
       "    <tr>\n",
       "      <th>amp</th>\n",
       "      <td>-2.518822</td>\n",
       "    </tr>\n",
       "    <tr>\n",
       "      <th>tomorrow</th>\n",
       "      <td>-2.365388</td>\n",
       "    </tr>\n",
       "    <tr>\n",
       "      <th>...</th>\n",
       "      <td>...</td>\n",
       "    </tr>\n",
       "    <tr>\n",
       "      <th>person</th>\n",
       "      <td>3.076867</td>\n",
       "    </tr>\n",
       "    <tr>\n",
       "      <th>depressed</th>\n",
       "      <td>3.956475</td>\n",
       "    </tr>\n",
       "    <tr>\n",
       "      <th>pain</th>\n",
       "      <td>4.010422</td>\n",
       "    </tr>\n",
       "    <tr>\n",
       "      <th>sad</th>\n",
       "      <td>4.039698</td>\n",
       "    </tr>\n",
       "    <tr>\n",
       "      <th>depression</th>\n",
       "      <td>5.016603</td>\n",
       "    </tr>\n",
       "  </tbody>\n",
       "</table>\n",
       "<p>304 rows × 1 columns</p>\n",
       "</div>"
      ],
      "text/plain": [
       "                coef\n",
       "blessed    -3.206050\n",
       "start      -2.630387\n",
       "n          -2.568530\n",
       "amp        -2.518822\n",
       "tomorrow   -2.365388\n",
       "...              ...\n",
       "person      3.076867\n",
       "depressed   3.956475\n",
       "pain        4.010422\n",
       "sad         4.039698\n",
       "depression  5.016603\n",
       "\n",
       "[304 rows x 1 columns]"
      ]
     },
     "execution_count": 27,
     "metadata": {},
     "output_type": "execute_result"
    }
   ],
   "source": [
    "coefs = pd.DataFrame(pipe['model'].coef_, \n",
    "                     columns=pipe['vectoriser'].get_feature_names())\n",
    "coefs = coefs.T.rename(columns={0:'coef'}).sort_values('coef')\n",
    "coefs"
   ]
  },
  {
   "cell_type": "code",
   "execution_count": 28,
   "metadata": {},
   "outputs": [
    {
     "name": "stdout",
     "output_type": "stream",
     "text": [
      "              precision    recall  f1-score   support\n",
      "\n",
      "    negative       0.93      0.81      0.87      2541\n",
      "    positive       0.51      0.77      0.61       639\n",
      "\n",
      "    accuracy                           0.80      3180\n",
      "   macro avg       0.72      0.79      0.74      3180\n",
      "weighted avg       0.85      0.80      0.82      3180\n",
      "\n"
     ]
    }
   ],
   "source": [
    "train_pred = pipe.predict(X_train)\n",
    "print(classification_report(train_pred, \n",
    "                            y_train, \n",
    "                            target_names=target_names))"
   ]
  },
  {
   "cell_type": "code",
   "execution_count": 29,
   "metadata": {},
   "outputs": [
    {
     "name": "stdout",
     "output_type": "stream",
     "text": [
      "              precision    recall  f1-score   support\n",
      "\n",
      "    negative       1.00      0.94      0.97        18\n",
      "    positive       0.67      1.00      0.80         2\n",
      "\n",
      "    accuracy                           0.95        20\n",
      "   macro avg       0.83      0.97      0.89        20\n",
      "weighted avg       0.97      0.95      0.95        20\n",
      "\n"
     ]
    }
   ],
   "source": [
    "train_pred = pipe.predict(X_test)\n",
    "print(classification_report(train_pred, \n",
    "                            y_test, \n",
    "                            target_names=target_names))"
   ]
  },
  {
   "cell_type": "code",
   "execution_count": 30,
   "metadata": {},
   "outputs": [
    {
     "name": "stdout",
     "output_type": "stream",
     "text": [
      "              precision    recall  f1-score   support\n",
      "\n",
      "    negative       0.90      0.93      0.92      4547\n",
      "    positive       0.04      0.02      0.03       491\n",
      "\n",
      "    accuracy                           0.85      5038\n",
      "   macro avg       0.47      0.48      0.47      5038\n",
      "weighted avg       0.81      0.85      0.83      5038\n",
      "\n"
     ]
    }
   ],
   "source": [
    "train_pred = pipe.predict(X_train1.values.astype('U'))\n",
    "print(classification_report(train_pred, \n",
    "                            y_train1, \n",
    "                            target_names=target_names))"
   ]
  },
  {
   "cell_type": "code",
   "execution_count": 31,
   "metadata": {},
   "outputs": [
    {
     "name": "stdout",
     "output_type": "stream",
     "text": [
      "              precision    recall  f1-score   support\n",
      "\n",
      "    negative       0.90      0.94      0.92    505758\n",
      "    positive       0.03      0.02      0.03     54242\n",
      "\n",
      "    accuracy                           0.85    560000\n",
      "   macro avg       0.47      0.48      0.47    560000\n",
      "weighted avg       0.82      0.85      0.83    560000\n",
      "\n"
     ]
    }
   ],
   "source": [
    "test_pred = pipe.predict(X_test1.values.astype('U'))\n",
    "print(classification_report(test_pred, \n",
    "                            y_test1, \n",
    "                            target_names=target_names))"
   ]
  },
  {
   "cell_type": "code",
   "execution_count": null,
   "metadata": {},
   "outputs": [],
   "source": []
  }
 ],
 "metadata": {
  "kernelspec": {
   "display_name": "Python 3",
   "language": "python",
   "name": "python3"
  },
  "language_info": {
   "codemirror_mode": {
    "name": "ipython",
    "version": 3
   },
   "file_extension": ".py",
   "mimetype": "text/x-python",
   "name": "python",
   "nbconvert_exporter": "python",
   "pygments_lexer": "ipython3",
   "version": "3.8.5"
  }
 },
 "nbformat": 4,
 "nbformat_minor": 4
}
