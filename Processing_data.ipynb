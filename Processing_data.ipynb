{
 "cells": [
  {
   "cell_type": "code",
   "execution_count": null,
   "metadata": {},
   "outputs": [],
   "source": []
  },
  {
   "cell_type": "code",
   "execution_count": 30,
   "metadata": {},
   "outputs": [],
   "source": [
    "import re\n",
    "import pandas as pd\n",
    "from nltk.corpus import stopwords\n",
    "from wordcloud import WordCloud, STOPWORDS\n",
    "import spacy"
   ]
  },
  {
   "cell_type": "code",
   "execution_count": 31,
   "metadata": {},
   "outputs": [],
   "source": [
    "import pandas as pd\n",
    "file = 'sentiment140_cut.csv' \n",
    "     \n"
   ]
  },
  {
   "cell_type": "code",
   "execution_count": 32,
   "metadata": {},
   "outputs": [
    {
     "data": {
      "text/plain": [
       "{'encoding': 'utf-8', 'confidence': 0.99, 'language': ''}"
      ]
     },
     "execution_count": 32,
     "metadata": {},
     "output_type": "execute_result"
    }
   ],
   "source": [
    "import chardet\n",
    "with open(file, 'rb') as rawdata:\n",
    "    result = chardet.detect(rawdata.read(100000))\n",
    "result\n"
   ]
  },
  {
   "cell_type": "code",
   "execution_count": 33,
   "metadata": {},
   "outputs": [],
   "source": [
    "      \n",
    "df= pd.read_csv(file,encoding='ISO-8859-1')"
   ]
  },
  {
   "cell_type": "code",
   "execution_count": 34,
   "metadata": {},
   "outputs": [
    {
     "data": {
      "text/html": [
       "<div>\n",
       "<style scoped>\n",
       "    .dataframe tbody tr th:only-of-type {\n",
       "        vertical-align: middle;\n",
       "    }\n",
       "\n",
       "    .dataframe tbody tr th {\n",
       "        vertical-align: top;\n",
       "    }\n",
       "\n",
       "    .dataframe thead th {\n",
       "        text-align: right;\n",
       "    }\n",
       "</style>\n",
       "<table border=\"1\" class=\"dataframe\">\n",
       "  <thead>\n",
       "    <tr style=\"text-align: right;\">\n",
       "      <th></th>\n",
       "      <th>Unnamed: 0</th>\n",
       "      <th>tweet</th>\n",
       "      <th>sentiment</th>\n",
       "    </tr>\n",
       "  </thead>\n",
       "  <tbody>\n",
       "    <tr>\n",
       "      <th>0</th>\n",
       "      <td>28754</td>\n",
       "      <td>@LayC  not enough time in the day</td>\n",
       "      <td>negative</td>\n",
       "    </tr>\n",
       "    <tr>\n",
       "      <th>1</th>\n",
       "      <td>8403</td>\n",
       "      <td>No 3.1 patch today for WoW, maybe next week</td>\n",
       "      <td>negative</td>\n",
       "    </tr>\n",
       "    <tr>\n",
       "      <th>2</th>\n",
       "      <td>174014</td>\n",
       "      <td>@soozafritz I'm bored too  I have got NOTHING ...</td>\n",
       "      <td>negative</td>\n",
       "    </tr>\n",
       "    <tr>\n",
       "      <th>3</th>\n",
       "      <td>557399</td>\n",
       "      <td>@xkayteebear okay. i dunno her xD haha. im lis...</td>\n",
       "      <td>positive</td>\n",
       "    </tr>\n",
       "    <tr>\n",
       "      <th>4</th>\n",
       "      <td>538668</td>\n",
       "      <td>@tommcfly woooo! Go tom! Get breaking dawn whi...</td>\n",
       "      <td>positive</td>\n",
       "    </tr>\n",
       "    <tr>\n",
       "      <th>5</th>\n",
       "      <td>262114</td>\n",
       "      <td>@caseyobvi Me too bb</td>\n",
       "      <td>negative</td>\n",
       "    </tr>\n",
       "    <tr>\n",
       "      <th>6</th>\n",
       "      <td>39714</td>\n",
       "      <td>got such a busy week ahead of me  blahhh, this...</td>\n",
       "      <td>negative</td>\n",
       "    </tr>\n",
       "    <tr>\n",
       "      <th>7</th>\n",
       "      <td>215774</td>\n",
       "      <td>@WickedBitch I agree! I've an email addy that'...</td>\n",
       "      <td>negative</td>\n",
       "    </tr>\n",
       "    <tr>\n",
       "      <th>8</th>\n",
       "      <td>15081</td>\n",
       "      <td>making up sooooo much work</td>\n",
       "      <td>negative</td>\n",
       "    </tr>\n",
       "    <tr>\n",
       "      <th>9</th>\n",
       "      <td>211380</td>\n",
       "      <td>final over...no footie...i'm depressed  dunno ...</td>\n",
       "      <td>negative</td>\n",
       "    </tr>\n",
       "    <tr>\n",
       "      <th>10</th>\n",
       "      <td>216071</td>\n",
       "      <td>@chloescott12 i wanted susan boyle to win</td>\n",
       "      <td>negative</td>\n",
       "    </tr>\n",
       "    <tr>\n",
       "      <th>11</th>\n",
       "      <td>550162</td>\n",
       "      <td>oh, lemme guess...her name rhymes with FLENNY....</td>\n",
       "      <td>positive</td>\n",
       "    </tr>\n",
       "    <tr>\n",
       "      <th>12</th>\n",
       "      <td>21123</td>\n",
       "      <td>242AM just got home. in biggggggg trouble from...</td>\n",
       "      <td>negative</td>\n",
       "    </tr>\n",
       "    <tr>\n",
       "      <th>13</th>\n",
       "      <td>261416</td>\n",
       "      <td>Not much of a weekend. Busy with the short cou...</td>\n",
       "      <td>negative</td>\n",
       "    </tr>\n",
       "    <tr>\n",
       "      <th>14</th>\n",
       "      <td>486381</td>\n",
       "      <td>Why is the hospital waiting room packed at 3 i...</td>\n",
       "      <td>negative</td>\n",
       "    </tr>\n",
       "  </tbody>\n",
       "</table>\n",
       "</div>"
      ],
      "text/plain": [
       "    Unnamed: 0                                              tweet sentiment\n",
       "0        28754                  @LayC  not enough time in the day  negative\n",
       "1         8403       No 3.1 patch today for WoW, maybe next week   negative\n",
       "2       174014  @soozafritz I'm bored too  I have got NOTHING ...  negative\n",
       "3       557399  @xkayteebear okay. i dunno her xD haha. im lis...  positive\n",
       "4       538668  @tommcfly woooo! Go tom! Get breaking dawn whi...  positive\n",
       "5       262114                              @caseyobvi Me too bb   negative\n",
       "6        39714  got such a busy week ahead of me  blahhh, this...  negative\n",
       "7       215774  @WickedBitch I agree! I've an email addy that'...  negative\n",
       "8        15081                        making up sooooo much work   negative\n",
       "9       211380  final over...no footie...i'm depressed  dunno ...  negative\n",
       "10      216071         @chloescott12 i wanted susan boyle to win   negative\n",
       "11      550162  oh, lemme guess...her name rhymes with FLENNY....  positive\n",
       "12       21123  242AM just got home. in biggggggg trouble from...  negative\n",
       "13      261416  Not much of a weekend. Busy with the short cou...  negative\n",
       "14      486381  Why is the hospital waiting room packed at 3 i...  negative"
      ]
     },
     "execution_count": 34,
     "metadata": {},
     "output_type": "execute_result"
    }
   ],
   "source": [
    "\n",
    "df.head(15)"
   ]
  },
  {
   "cell_type": "code",
   "execution_count": 35,
   "metadata": {},
   "outputs": [],
   "source": [
    "nlp = spacy.load(\"en_core_web_sm\", disable=['parser', 'ner'])"
   ]
  },
  {
   "cell_type": "code",
   "execution_count": 36,
   "metadata": {},
   "outputs": [
    {
     "data": {
      "text/plain": [
       "0                     @layc not enough time in the day\n",
       "1          no 3.1 patch today for wow, maybe next week\n",
       "2    @soozafritz i'm bored too i have got nothing t...\n",
       "3    @xkayteebear okay. i dunno her xd haha. im lis...\n",
       "4    @tommcfly woooo! go tom! get breaking dawn whi...\n",
       "Name: new_tweets, dtype: object"
      ]
     },
     "execution_count": 36,
     "metadata": {},
     "output_type": "execute_result"
    }
   ],
   "source": [
    "df['tweet'] = df['tweet'].fillna(\"\")\n",
    "\n",
    "df['new_tweets'] = df['tweet'].apply(lambda x: \" \".join(x.lower() for x in x.split()))\n",
    "df['new_tweets'].head()"
   ]
  },
  {
   "cell_type": "code",
   "execution_count": 37,
   "metadata": {},
   "outputs": [
    {
     "data": {
      "text/plain": [
       "0                     @layc not enough time in the day\n",
       "1          no 3.1 patch today for wow, maybe next week\n",
       "2    @soozafritz i'm bored too i have got nothing t...\n",
       "3    @xkayteebear okay. i dunno her xd haha. im lis...\n",
       "4    @tommcfly woooo! go tom! get breaking dawn whi...\n",
       "Name: new_tweets, dtype: object"
      ]
     },
     "execution_count": 37,
     "metadata": {},
     "output_type": "execute_result"
    }
   ],
   "source": [
    "\n",
    "df['new_tweets'] = df['new_tweets'].str.replace('http\\S+|www.\\S+', '', case=False)\n",
    "df['new_tweets'].head()"
   ]
  },
  {
   "cell_type": "code",
   "execution_count": 38,
   "metadata": {},
   "outputs": [
    {
     "data": {
      "text/plain": [
       "0                      layc not enough time in the day\n",
       "1            no 31 patch today for wow maybe next week\n",
       "2     soozafritz im bored too i have got nothing to do\n",
       "3    xkayteebear okay i dunno her xd haha im listen...\n",
       "4    tommcfly woooo go tom get breaking dawn while ...\n",
       "Name: new_tweets, dtype: object"
      ]
     },
     "execution_count": 38,
     "metadata": {},
     "output_type": "execute_result"
    }
   ],
   "source": [
    "df['new_tweets'] = df['new_tweets'].str.replace('[^\\w\\s]','')\n",
    "df['new_tweets'].head()"
   ]
  },
  {
   "cell_type": "code",
   "execution_count": 39,
   "metadata": {},
   "outputs": [
    {
     "data": {
      "text/plain": [
       "0                      layc not enough time in the day\n",
       "1            no 31 patch today for wow maybe next week\n",
       "2     soozafritz im bored too i have got nothing to do\n",
       "3    xkayteebear okay i dunno her xd haha im listen...\n",
       "4    tommcfly woooo go tom get breaking dawn while ...\n",
       "Name: new_tweets, dtype: object"
      ]
     },
     "execution_count": 39,
     "metadata": {},
     "output_type": "execute_result"
    }
   ],
   "source": [
    "def remove_emoji(text):\n",
    "    emoji_pattern = re.compile(\"[\"\n",
    "                           u\"\\U0001F600-\\U0001F64F\"  # emoticons\n",
    "                           u\"\\U0001F300-\\U0001F5FF\"  # symbols & pictographs\n",
    "                           u\"\\U0001F680-\\U0001F6FF\"  # transport & map symbols\n",
    "                           u\"\\U0001F1E0-\\U0001F1FF\"  # flags \n",
    "                           u\"\\U00002702-\\U000027B0\"\n",
    "                           u\"\\U000024C2-\\U0001F251\"\n",
    "                           \"]+\", flags=re.UNICODE)\n",
    "    return emoji_pattern.sub(r'', text)\n",
    "df['new_tweets'] = df['new_tweets'].apply(lambda x: remove_emoji(x))\n",
    "df['new_tweets'].head()"
   ]
  },
  {
   "cell_type": "code",
   "execution_count": 40,
   "metadata": {},
   "outputs": [
    {
     "data": {
      "text/html": [
       "<div>\n",
       "<style scoped>\n",
       "    .dataframe tbody tr th:only-of-type {\n",
       "        vertical-align: middle;\n",
       "    }\n",
       "\n",
       "    .dataframe tbody tr th {\n",
       "        vertical-align: top;\n",
       "    }\n",
       "\n",
       "    .dataframe thead th {\n",
       "        text-align: right;\n",
       "    }\n",
       "</style>\n",
       "<table border=\"1\" class=\"dataframe\">\n",
       "  <thead>\n",
       "    <tr style=\"text-align: right;\">\n",
       "      <th></th>\n",
       "      <th>Unnamed: 0</th>\n",
       "      <th>tweet</th>\n",
       "      <th>sentiment</th>\n",
       "      <th>new_tweets</th>\n",
       "    </tr>\n",
       "  </thead>\n",
       "  <tbody>\n",
       "    <tr>\n",
       "      <th>0</th>\n",
       "      <td>28754</td>\n",
       "      <td>@LayC  not enough time in the day</td>\n",
       "      <td>negative</td>\n",
       "      <td>layc enough time day</td>\n",
       "    </tr>\n",
       "    <tr>\n",
       "      <th>1</th>\n",
       "      <td>8403</td>\n",
       "      <td>No 3.1 patch today for WoW, maybe next week</td>\n",
       "      <td>negative</td>\n",
       "      <td>31 patch today wow maybe next week</td>\n",
       "    </tr>\n",
       "    <tr>\n",
       "      <th>2</th>\n",
       "      <td>174014</td>\n",
       "      <td>@soozafritz I'm bored too  I have got NOTHING ...</td>\n",
       "      <td>negative</td>\n",
       "      <td>soozafritz im bored got nothing</td>\n",
       "    </tr>\n",
       "    <tr>\n",
       "      <th>3</th>\n",
       "      <td>557399</td>\n",
       "      <td>@xkayteebear okay. i dunno her xD haha. im lis...</td>\n",
       "      <td>positive</td>\n",
       "      <td>xkayteebear okay dunno xd haha im listening al...</td>\n",
       "    </tr>\n",
       "    <tr>\n",
       "      <th>4</th>\n",
       "      <td>538668</td>\n",
       "      <td>@tommcfly woooo! Go tom! Get breaking dawn whi...</td>\n",
       "      <td>positive</td>\n",
       "      <td>tommcfly woooo go tom get breaking dawn xx</td>\n",
       "    </tr>\n",
       "  </tbody>\n",
       "</table>\n",
       "</div>"
      ],
      "text/plain": [
       "   Unnamed: 0                                              tweet sentiment  \\\n",
       "0       28754                  @LayC  not enough time in the day  negative   \n",
       "1        8403       No 3.1 patch today for WoW, maybe next week   negative   \n",
       "2      174014  @soozafritz I'm bored too  I have got NOTHING ...  negative   \n",
       "3      557399  @xkayteebear okay. i dunno her xD haha. im lis...  positive   \n",
       "4      538668  @tommcfly woooo! Go tom! Get breaking dawn whi...  positive   \n",
       "\n",
       "                                          new_tweets  \n",
       "0                               layc enough time day  \n",
       "1                 31 patch today wow maybe next week  \n",
       "2                    soozafritz im bored got nothing  \n",
       "3  xkayteebear okay dunno xd haha im listening al...  \n",
       "4         tommcfly woooo go tom get breaking dawn xx  "
      ]
     },
     "execution_count": 40,
     "metadata": {},
     "output_type": "execute_result"
    }
   ],
   "source": [
    "stop = stopwords.words('english')\n",
    "df['new_tweets'] = df['new_tweets'].apply(lambda x: \" \".join(x for x in x.split() if x not in stop))\n",
    "df.head()"
   ]
  },
  {
   "cell_type": "code",
   "execution_count": 41,
   "metadata": {},
   "outputs": [
    {
     "data": {
      "text/html": [
       "<div>\n",
       "<style scoped>\n",
       "    .dataframe tbody tr th:only-of-type {\n",
       "        vertical-align: middle;\n",
       "    }\n",
       "\n",
       "    .dataframe tbody tr th {\n",
       "        vertical-align: top;\n",
       "    }\n",
       "\n",
       "    .dataframe thead th {\n",
       "        text-align: right;\n",
       "    }\n",
       "</style>\n",
       "<table border=\"1\" class=\"dataframe\">\n",
       "  <thead>\n",
       "    <tr style=\"text-align: right;\">\n",
       "      <th></th>\n",
       "      <th>Unnamed: 0</th>\n",
       "      <th>tweet</th>\n",
       "      <th>sentiment</th>\n",
       "      <th>new_tweets</th>\n",
       "    </tr>\n",
       "  </thead>\n",
       "  <tbody>\n",
       "    <tr>\n",
       "      <th>0</th>\n",
       "      <td>28754</td>\n",
       "      <td>@LayC  not enough time in the day</td>\n",
       "      <td>negative</td>\n",
       "      <td>layc enough time day</td>\n",
       "    </tr>\n",
       "    <tr>\n",
       "      <th>1</th>\n",
       "      <td>8403</td>\n",
       "      <td>No 3.1 patch today for WoW, maybe next week</td>\n",
       "      <td>negative</td>\n",
       "      <td>31 patch today wow maybe next week</td>\n",
       "    </tr>\n",
       "    <tr>\n",
       "      <th>2</th>\n",
       "      <td>174014</td>\n",
       "      <td>@soozafritz I'm bored too  I have got NOTHING ...</td>\n",
       "      <td>negative</td>\n",
       "      <td>soozafritz I m bored get nothing</td>\n",
       "    </tr>\n",
       "    <tr>\n",
       "      <th>3</th>\n",
       "      <td>557399</td>\n",
       "      <td>@xkayteebear okay. i dunno her xD haha. im lis...</td>\n",
       "      <td>positive</td>\n",
       "      <td>xkayteebear okay dunno xd haha I m listen alwa...</td>\n",
       "    </tr>\n",
       "    <tr>\n",
       "      <th>4</th>\n",
       "      <td>538668</td>\n",
       "      <td>@tommcfly woooo! Go tom! Get breaking dawn whi...</td>\n",
       "      <td>positive</td>\n",
       "      <td>tommcfly woooo go tom get break dawn xx</td>\n",
       "    </tr>\n",
       "    <tr>\n",
       "      <th>5</th>\n",
       "      <td>262114</td>\n",
       "      <td>@caseyobvi Me too bb</td>\n",
       "      <td>negative</td>\n",
       "      <td>caseyobvi bb</td>\n",
       "    </tr>\n",
       "    <tr>\n",
       "      <th>6</th>\n",
       "      <td>39714</td>\n",
       "      <td>got such a busy week ahead of me  blahhh, this...</td>\n",
       "      <td>negative</td>\n",
       "      <td>get busy week ahead blahhh gon na fun</td>\n",
       "    </tr>\n",
       "    <tr>\n",
       "      <th>7</th>\n",
       "      <td>215774</td>\n",
       "      <td>@WickedBitch I agree! I've an email addy that'...</td>\n",
       "      <td>negative</td>\n",
       "      <td>wickedbitch agree I ve email addy that s never...</td>\n",
       "    </tr>\n",
       "    <tr>\n",
       "      <th>8</th>\n",
       "      <td>15081</td>\n",
       "      <td>making up sooooo much work</td>\n",
       "      <td>negative</td>\n",
       "      <td>make sooooo much work</td>\n",
       "    </tr>\n",
       "    <tr>\n",
       "      <th>9</th>\n",
       "      <td>211380</td>\n",
       "      <td>final over...no footie...i'm depressed  dunno ...</td>\n",
       "      <td>negative</td>\n",
       "      <td>final overno footieim depress dunno I m bored ...</td>\n",
       "    </tr>\n",
       "    <tr>\n",
       "      <th>10</th>\n",
       "      <td>216071</td>\n",
       "      <td>@chloescott12 i wanted susan boyle to win</td>\n",
       "      <td>negative</td>\n",
       "      <td>chloescott12 want susan boyle win</td>\n",
       "    </tr>\n",
       "    <tr>\n",
       "      <th>11</th>\n",
       "      <td>550162</td>\n",
       "      <td>oh, lemme guess...her name rhymes with FLENNY....</td>\n",
       "      <td>positive</td>\n",
       "      <td>oh lemme guessher name rhyme flenny hahahahaha</td>\n",
       "    </tr>\n",
       "    <tr>\n",
       "      <th>12</th>\n",
       "      <td>21123</td>\n",
       "      <td>242AM just got home. in biggggggg trouble from...</td>\n",
       "      <td>negative</td>\n",
       "      <td>242am get home biggggggg trouble mommy</td>\n",
       "    </tr>\n",
       "    <tr>\n",
       "      <th>13</th>\n",
       "      <td>261416</td>\n",
       "      <td>Not much of a weekend. Busy with the short cou...</td>\n",
       "      <td>negative</td>\n",
       "      <td>much weekend busy short course want 2 day dang</td>\n",
       "    </tr>\n",
       "    <tr>\n",
       "      <th>14</th>\n",
       "      <td>486381</td>\n",
       "      <td>Why is the hospital waiting room packed at 3 i...</td>\n",
       "      <td>negative</td>\n",
       "      <td>hospital waiting room pack 3 afternoon probabl...</td>\n",
       "    </tr>\n",
       "  </tbody>\n",
       "</table>\n",
       "</div>"
      ],
      "text/plain": [
       "    Unnamed: 0                                              tweet sentiment  \\\n",
       "0        28754                  @LayC  not enough time in the day  negative   \n",
       "1         8403       No 3.1 patch today for WoW, maybe next week   negative   \n",
       "2       174014  @soozafritz I'm bored too  I have got NOTHING ...  negative   \n",
       "3       557399  @xkayteebear okay. i dunno her xD haha. im lis...  positive   \n",
       "4       538668  @tommcfly woooo! Go tom! Get breaking dawn whi...  positive   \n",
       "5       262114                              @caseyobvi Me too bb   negative   \n",
       "6        39714  got such a busy week ahead of me  blahhh, this...  negative   \n",
       "7       215774  @WickedBitch I agree! I've an email addy that'...  negative   \n",
       "8        15081                        making up sooooo much work   negative   \n",
       "9       211380  final over...no footie...i'm depressed  dunno ...  negative   \n",
       "10      216071         @chloescott12 i wanted susan boyle to win   negative   \n",
       "11      550162  oh, lemme guess...her name rhymes with FLENNY....  positive   \n",
       "12       21123  242AM just got home. in biggggggg trouble from...  negative   \n",
       "13      261416  Not much of a weekend. Busy with the short cou...  negative   \n",
       "14      486381  Why is the hospital waiting room packed at 3 i...  negative   \n",
       "\n",
       "                                           new_tweets  \n",
       "0                                layc enough time day  \n",
       "1                  31 patch today wow maybe next week  \n",
       "2                    soozafritz I m bored get nothing  \n",
       "3   xkayteebear okay dunno xd haha I m listen alwa...  \n",
       "4             tommcfly woooo go tom get break dawn xx  \n",
       "5                                        caseyobvi bb  \n",
       "6               get busy week ahead blahhh gon na fun  \n",
       "7   wickedbitch agree I ve email addy that s never...  \n",
       "8                               make sooooo much work  \n",
       "9   final overno footieim depress dunno I m bored ...  \n",
       "10                  chloescott12 want susan boyle win  \n",
       "11     oh lemme guessher name rhyme flenny hahahahaha  \n",
       "12             242am get home biggggggg trouble mommy  \n",
       "13     much weekend busy short course want 2 day dang  \n",
       "14  hospital waiting room pack 3 afternoon probabl...  "
      ]
     },
     "execution_count": 41,
     "metadata": {},
     "output_type": "execute_result"
    }
   ],
   "source": [
    "def space(comment):\n",
    "    doc = nlp(comment)\n",
    "    return \" \".join([token.lemma_ for token in doc])\n",
    "df['new_tweets']= df['new_tweets'].apply(space)\n",
    "df.head(15)"
   ]
  },
  {
   "cell_type": "code",
   "execution_count": 43,
   "metadata": {},
   "outputs": [
    {
     "data": {
      "text/html": [
       "<div>\n",
       "<style scoped>\n",
       "    .dataframe tbody tr th:only-of-type {\n",
       "        vertical-align: middle;\n",
       "    }\n",
       "\n",
       "    .dataframe tbody tr th {\n",
       "        vertical-align: top;\n",
       "    }\n",
       "\n",
       "    .dataframe thead th {\n",
       "        text-align: right;\n",
       "    }\n",
       "</style>\n",
       "<table border=\"1\" class=\"dataframe\">\n",
       "  <thead>\n",
       "    <tr style=\"text-align: right;\">\n",
       "      <th></th>\n",
       "      <th>new_tweets</th>\n",
       "      <th>sentiment</th>\n",
       "    </tr>\n",
       "  </thead>\n",
       "  <tbody>\n",
       "    <tr>\n",
       "      <th>0</th>\n",
       "      <td>layc enough time day</td>\n",
       "      <td>negative</td>\n",
       "    </tr>\n",
       "    <tr>\n",
       "      <th>1</th>\n",
       "      <td>31 patch today wow maybe next week</td>\n",
       "      <td>negative</td>\n",
       "    </tr>\n",
       "    <tr>\n",
       "      <th>2</th>\n",
       "      <td>soozafritz I m bored get nothing</td>\n",
       "      <td>negative</td>\n",
       "    </tr>\n",
       "    <tr>\n",
       "      <th>3</th>\n",
       "      <td>xkayteebear okay dunno xd haha I m listen alwa...</td>\n",
       "      <td>positive</td>\n",
       "    </tr>\n",
       "    <tr>\n",
       "      <th>4</th>\n",
       "      <td>tommcfly woooo go tom get break dawn xx</td>\n",
       "      <td>positive</td>\n",
       "    </tr>\n",
       "    <tr>\n",
       "      <th>5</th>\n",
       "      <td>caseyobvi bb</td>\n",
       "      <td>negative</td>\n",
       "    </tr>\n",
       "    <tr>\n",
       "      <th>6</th>\n",
       "      <td>get busy week ahead blahhh gon na fun</td>\n",
       "      <td>negative</td>\n",
       "    </tr>\n",
       "    <tr>\n",
       "      <th>7</th>\n",
       "      <td>wickedbitch agree I ve email addy that s never...</td>\n",
       "      <td>negative</td>\n",
       "    </tr>\n",
       "    <tr>\n",
       "      <th>8</th>\n",
       "      <td>make sooooo much work</td>\n",
       "      <td>negative</td>\n",
       "    </tr>\n",
       "    <tr>\n",
       "      <th>9</th>\n",
       "      <td>final overno footieim depress dunno I m bored ...</td>\n",
       "      <td>negative</td>\n",
       "    </tr>\n",
       "    <tr>\n",
       "      <th>10</th>\n",
       "      <td>chloescott12 want susan boyle win</td>\n",
       "      <td>negative</td>\n",
       "    </tr>\n",
       "    <tr>\n",
       "      <th>11</th>\n",
       "      <td>oh lemme guessher name rhyme flenny hahahahaha</td>\n",
       "      <td>positive</td>\n",
       "    </tr>\n",
       "    <tr>\n",
       "      <th>12</th>\n",
       "      <td>242am get home biggggggg trouble mommy</td>\n",
       "      <td>negative</td>\n",
       "    </tr>\n",
       "    <tr>\n",
       "      <th>13</th>\n",
       "      <td>much weekend busy short course want 2 day dang</td>\n",
       "      <td>negative</td>\n",
       "    </tr>\n",
       "    <tr>\n",
       "      <th>14</th>\n",
       "      <td>hospital waiting room pack 3 afternoon probabl...</td>\n",
       "      <td>negative</td>\n",
       "    </tr>\n",
       "  </tbody>\n",
       "</table>\n",
       "</div>"
      ],
      "text/plain": [
       "                                           new_tweets sentiment\n",
       "0                                layc enough time day  negative\n",
       "1                  31 patch today wow maybe next week  negative\n",
       "2                    soozafritz I m bored get nothing  negative\n",
       "3   xkayteebear okay dunno xd haha I m listen alwa...  positive\n",
       "4             tommcfly woooo go tom get break dawn xx  positive\n",
       "5                                        caseyobvi bb  negative\n",
       "6               get busy week ahead blahhh gon na fun  negative\n",
       "7   wickedbitch agree I ve email addy that s never...  negative\n",
       "8                               make sooooo much work  negative\n",
       "9   final overno footieim depress dunno I m bored ...  negative\n",
       "10                  chloescott12 want susan boyle win  negative\n",
       "11     oh lemme guessher name rhyme flenny hahahahaha  positive\n",
       "12             242am get home biggggggg trouble mommy  negative\n",
       "13     much weekend busy short course want 2 day dang  negative\n",
       "14  hospital waiting room pack 3 afternoon probabl...  negative"
      ]
     },
     "execution_count": 43,
     "metadata": {},
     "output_type": "execute_result"
    }
   ],
   "source": [
    "# Select the ones you want\n",
    "Save = df[['new_tweets','sentiment']]\n",
    "Save.head(15)"
   ]
  },
  {
   "cell_type": "code",
   "execution_count": 44,
   "metadata": {},
   "outputs": [
    {
     "data": {
      "text/plain": [
       "0"
      ]
     },
     "execution_count": 44,
     "metadata": {},
     "output_type": "execute_result"
    }
   ],
   "source": [
    "Save['new_tweets'].isnull().sum()"
   ]
  },
  {
   "cell_type": "code",
   "execution_count": null,
   "metadata": {},
   "outputs": [],
   "source": [
    "Save = Save.dropna()"
   ]
  },
  {
   "cell_type": "code",
   "execution_count": 45,
   "metadata": {},
   "outputs": [],
   "source": [
    "\n",
    "\n",
    "Save.to_csv(\"Sent140DataSet.csv\")"
   ]
  },
  {
   "cell_type": "code",
   "execution_count": null,
   "metadata": {},
   "outputs": [],
   "source": []
  }
 ],
 "metadata": {
  "kernelspec": {
   "display_name": "Python 3",
   "language": "python",
   "name": "python3"
  },
  "language_info": {
   "codemirror_mode": {
    "name": "ipython",
    "version": 3
   },
   "file_extension": ".py",
   "mimetype": "text/x-python",
   "name": "python",
   "nbconvert_exporter": "python",
   "pygments_lexer": "ipython3",
   "version": "3.8.5"
  }
 },
 "nbformat": 4,
 "nbformat_minor": 4
}
